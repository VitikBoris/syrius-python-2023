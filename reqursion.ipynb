{
 "cells": [
  {
   "attachments": {},
   "cell_type": "markdown",
   "metadata": {},
   "source": [
    "Фишки\n",
    "Дана полоска из клеток, пронумерованных от 1 до 𝑁 слева направо. Разрешено:\n",
    "\n",
    "- Снимать или ставить фишку на клетку с номером 1.\n",
    "- Ставить фишку на клетку, следующую за самой левой из установленных фишек (правее неё), если она пуста.\n",
    "- Удалять фишку на клетке, следующей за самой левой из установленных фишек (правее неё), если она занята.\n",
    "\n",
    "Изначально полоска пуста. Нужно разместить фишки во всех клетках.\n",
    "\n"
   ]
  },
  {
   "cell_type": "code",
   "execution_count": 17,
   "metadata": {},
   "outputs": [
    {
     "name": "stdout",
     "output_type": "stream",
     "text": [
      "1\n",
      "1\n",
      "(0, 1, 0) (1, 1, 0) [5] [1, 2]\n"
     ]
    }
   ],
   "source": [
    "def isEnd(band):\n",
    "    for cell in band:\n",
    "        if cell == 0:\n",
    "            return False\n",
    "    return True\n",
    "\n",
    "def turn(band, turns, steps):\n",
    "    # 1\n",
    "    if band[0] == 0:\n",
    "        nextBand = (1, band[1:])\n",
    "    # 2\n",
    "    indexOfFirtEmptyCell = band.index(1)\n",
    "    if band[indexOfFirtEmptyCell + 1] == 0:\n",
    "        nextBand = (1, band[1:])\n",
    "    if(len({(1, band[1:])}.intersection(steps)) == 0):\n",
    "        turn(nextBand, [turns[::], 1], steps[::] + {nextBand})\n",
    "    \n",
    "\n",
    "#print(turn((0,0,0), [], []))\n",
    "s = { 1, 2, 3 }\n",
    "print(len(s.intersection({2})))\n",
    "a = (0, 1, 0)\n",
    "#a[1] = 1\n",
    "b = (1,) + a[1:]\n",
    "c = [1]\n",
    "d = c[::] + [2]\n",
    "c[0] = 5\n",
    "print(a.index(1))\n",
    "print(a, b, c, d)\n",
    "\n",
    "    "
   ]
  },
  {
   "cell_type": "code",
   "execution_count": 23,
   "metadata": {},
   "outputs": [
    {
     "name": "stdout",
     "output_type": "stream",
     "text": [
      "\n",
      "1 1 3\n",
      "\n",
      "2 1 2\n",
      "\n",
      "1 3 2\n",
      "\n",
      "3 1 3\n",
      "\n",
      "1 2 1\n",
      "\n",
      "2 2 3\n",
      "\n",
      "1 1 3\n",
      "\n",
      "4 1 2\n",
      "\n",
      "1 3 2\n",
      "\n",
      "2 3 1\n",
      "\n",
      "1 2 1\n",
      "\n",
      "3 3 2\n",
      "\n",
      "1 1 3\n",
      "\n",
      "2 1 2\n",
      "\n",
      "1 3 2\n",
      "\n",
      "5 1 3\n",
      "\n",
      "1 2 1\n",
      "\n",
      "2 2 3\n",
      "\n",
      "1 1 3\n",
      "\n",
      "3 2 1\n",
      "\n",
      "1 3 2\n",
      "\n",
      "2 3 1\n",
      "\n",
      "1 2 1\n",
      "\n",
      "4 2 3\n",
      "\n",
      "1 1 3\n",
      "\n",
      "2 1 2\n",
      "\n",
      "1 3 2\n",
      "\n",
      "3 1 3\n",
      "\n",
      "1 2 1\n",
      "\n",
      "2 2 3\n",
      "\n",
      "1 1 3\n",
      "\n"
     ]
    }
   ],
   "source": [
    "def move(n, start, finish):\n",
    "    if n > 0:\n",
    "        tmp = 6 - start - finish\n",
    "        move(n - 1, start, tmp)\n",
    "        print(n, start, finish)\n",
    "        move(n - 1, tmp, finish)\n",
    "move(int(input()),1,3)"
   ]
  }
 ],
 "metadata": {
  "kernelspec": {
   "display_name": "Python 3 (ipykernel)",
   "language": "python",
   "name": "python3"
  },
  "language_info": {
   "codemirror_mode": {
    "name": "ipython",
    "version": 3
   },
   "file_extension": ".py",
   "mimetype": "text/x-python",
   "name": "python",
   "nbconvert_exporter": "python",
   "pygments_lexer": "ipython3",
   "version": "3.10.4"
  },
  "orig_nbformat": 4
 },
 "nbformat": 4,
 "nbformat_minor": 2
}
