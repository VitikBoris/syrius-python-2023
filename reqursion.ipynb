{
 "cells": [
  {
   "attachments": {},
   "cell_type": "markdown",
   "metadata": {},
   "source": [
    "Фишки\n",
    "Дана полоска из клеток, пронумерованных от 1 до 𝑁 слева направо. Разрешено:\n",
    "\n",
    "- Снимать или ставить фишку на клетку с номером 1.\n",
    "- Ставить фишку на клетку, следующую за самой левой из установленных фишек (правее неё), если она пуста.\n",
    "- Удалять фишку на клетке, следующей за самой левой из установленных фишек (правее неё), если она занята.\n",
    "\n",
    "Изначально полоска пуста. Нужно разместить фишки во всех клетках.\n",
    "\n"
   ]
  },
  {
   "cell_type": "code",
   "execution_count": 17,
   "metadata": {},
   "outputs": [
    {
     "name": "stdout",
     "output_type": "stream",
     "text": [
      "1\n",
      "1\n",
      "(0, 1, 0) (1, 1, 0) [5] [1, 2]\n"
     ]
    }
   ],
   "source": [
    "def isEnd(band):\n",
    "    for cell in band:\n",
    "        if cell == 0:\n",
    "            return False\n",
    "    return True\n",
    "\n",
    "def turn(band, turns, steps):\n",
    "    # 1\n",
    "    if band[0] == 0:\n",
    "        nextBand = (1, band[1:])\n",
    "    # 2\n",
    "    indexOfFirtEmptyCell = band.index(1)\n",
    "    if band[indexOfFirtEmptyCell + 1] == 0:\n",
    "        nextBand = (1, band[1:])\n",
    "    if(len({(1, band[1:])}.intersection(steps)) == 0):\n",
    "        turn(nextBand, [turns[::], 1], steps[::] + {nextBand})\n",
    "    \n",
    "\n",
    "#print(turn((0,0,0), [], []))\n",
    "s = { 1, 2, 3 }\n",
    "print(len(s.intersection({2})))\n",
    "a = (0, 1, 0)\n",
    "#a[1] = 1\n",
    "b = (1,) + a[1:]\n",
    "c = [1]\n",
    "d = c[::] + [2]\n",
    "c[0] = 5\n",
    "print(a.index(1))\n",
    "print(a, b, c, d)                "
   ]
  },
  {
   "cell_type": "code",
   "execution_count": 1,
   "metadata": {},
   "outputs": [
    {
     "name": "stdout",
     "output_type": "stream",
     "text": [
      "1\n",
      "2\n"
     ]
    },
    {
     "ename": "",
     "evalue": "",
     "output_type": "error",
     "traceback": [
      "\u001b[1;31mCanceled future for execute_request message before replies were done"
     ]
    },
    {
     "ename": "",
     "evalue": "",
     "output_type": "error",
     "traceback": [
      "\u001b[1;31mThe Kernel crashed while executing code in the the current cell or a previous cell. Please review the code in the cell(s) to identify a possible cause of the failure. Click <a href='https://aka.ms/vscodeJupyterKernelCrash'>here</a> for more info. View Jupyter <a href='command:jupyter.viewOutput'>log</a> for further details."
     ]
    }
   ],
   "source": [
    "def delete(n):\n",
    "    if n <= 0:\n",
    "        return\n",
    "    if n == -1:\n",
    "        print(-n)\n",
    "    fill(n - 1)\n",
    "    remove(n - 2)\n",
    "    print(-n)\n",
    "    delete(n - 1)\n",
    "\n",
    "def remove(n):\n",
    "    if n <= 0:\n",
    "        return\n",
    "    if n == 1:\n",
    "        print(-1)\n",
    "    else:\n",
    "        remove(n - 2)\n",
    "        print(-n)\n",
    "        delete(n - 1)\n",
    "        \n",
    "def fill(n):\n",
    "    if n <= 0:\n",
    "        return\n",
    "    if n == 1:\n",
    "        print(1)\n",
    "    else:\n",
    "        fill(n - 1)\n",
    "        remove(n - 2)\n",
    "        print(n)\n",
    "        fill(n - 2)\n",
    "fill(2)\n"
   ]
  },
  {
   "cell_type": "code",
   "execution_count": null,
   "metadata": {},
   "outputs": [],
   "source": [
    "def move(n, start, finish):\n",
    "    if n > 0:\n",
    "        tmp = 6 - start - finish\n",
    "        move(n - 1, start, tmp)\n",
    "        print(n, start, finish)\n",
    "        move(n - 1, tmp, finish)\n",
    "move(int(input()),1,3)"
   ]
  }
 ],
 "metadata": {
  "kernelspec": {
   "display_name": "Python 3",
   "language": "python",
   "name": "python3"
  },
  "language_info": {
   "codemirror_mode": {
    "name": "ipython",
    "version": 3
   },
   "file_extension": ".py",
   "mimetype": "text/x-python",
   "name": "python",
   "nbconvert_exporter": "python",
   "pygments_lexer": "ipython3",
   "version": "3.9.4"
  },
  "orig_nbformat": 4,
  "vscode": {
   "interpreter": {
    "hash": "81794d4967e6c3204c66dcd87b604927b115b27c00565d3d43f05ba2f3a2cb0d"
   }
  }
 },
 "nbformat": 4,
 "nbformat_minor": 2
}
